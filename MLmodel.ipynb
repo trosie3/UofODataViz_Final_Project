{
  "nbformat": 4,
  "nbformat_minor": 5,
  "metadata": {
    "kernelspec": {
      "display_name": "mlenv",
      "language": "python",
      "name": "mlenv"
    },
    "language_info": {
      "codemirror_mode": {
        "name": "ipython",
        "version": 3
      },
      "file_extension": ".py",
      "mimetype": "text/x-python",
      "name": "python",
      "nbconvert_exporter": "python",
      "pygments_lexer": "ipython3",
      "version": "3.7.10"
    },
    "colab": {
      "name": "MLmodel.ipynb",
      "provenance": [],
      "collapsed_sections": []
    }
  },
  "cells": [
    {
      "cell_type": "markdown",
      "metadata": {
        "id": "aba58af6"
      },
      "source": [
        "\n",
        "### Adoptionspeed_label - target value\n",
        "0: adopted on the same day of listing \n",
        "    \n",
        "1: adopted on the first week of listing\n",
        "    \n",
        "2: adopted on the first month of listing(7-30 days)\n",
        "    \n",
        "3: adopted on the 2nd and 3rd month of listing\n",
        "    \n",
        "4: stayed over 90 days of listing \n",
        "    "
      ],
      "id": "aba58af6"
    },
    {
      "cell_type": "code",
      "metadata": {
        "id": "uEkNPg0pepLa"
      },
      "source": [
        "# imports for pull data from database \n",
        "#import os\n",
        "# Find the latest version of spark 3.0  from http://www.apache.org/dist/spark/ and enter as the spark version\n",
        "# For example: spark_version = 'spark-3.0.3'\n",
        "#spark_version = 'spark-3.0.3'\n",
        "#os.environ['SPARK_VERSION']=spark_version\n",
        "\n",
        "# Install Spark, Java, Postgres\n",
        "#!apt-get update\n",
        "#!apt-get install openjdk-11-jdk-headless -qq > /dev/null\n",
        "#!wget -q http://www.apache.org/dist/spark/$SPARK_VERSION/$SPARK_VERSION-bin-hadoop2.7.tgz\n",
        "#!tar xf $SPARK_VERSION-bin-hadoop2.7.tgz\n",
        "#!pip install -q findspark\n",
        "#!wget https://jdbc.postgresql.org/download/postgresql-42.2.9.jar\n",
        "\n",
        "# Set Environment Variables\n",
        "#os.environ[\"JAVA_HOME\"] = \"/usr/lib/jvm/java-11-openjdk-amd64\"\n",
        "#os.environ[\"SPARK_HOME\"] = f\"/content/{spark_version}-bin-hadoop2.7\"\n",
        "\n",
        "# Start a SparkSession\n",
        "#import findspark\n",
        "#findspark.init()\n",
        "\n",
        "#from pyspark.sql import SparkSession\n",
        "#spark = SparkSession.builder.appName(\"CloudETL\").config(\"spark.driver.extraClassPath\",\"/content/postgresql-42.2.9.jar\").getOrCreate()"
      ],
      "id": "uEkNPg0pepLa",
      "execution_count": null,
      "outputs": []
    },
    {
      "cell_type": "code",
      "metadata": {
        "id": "LFhjv4T-fS3H"
      },
      "source": [
        "# Read in data from S3 Buckets  import data from database (skip line for now while database being put together) \n",
        "#from pyspark import SparkFiles\n",
        "#url=\"https://<bucket name>.s3.(fillin here)\"\n",
        "#spark.sparkContext.addFile(url)\n",
        "#pet_df = spark.read.csv(SparkFiles.get(\"cleaned_train.csv\"), sep=\",\", header=True, inferSchema=True)\n",
        "\n",
        "# Show DataFrame\n",
        "#pet_df.show()"
      ],
      "id": "LFhjv4T-fS3H",
      "execution_count": null,
      "outputs": []
    },
    {
      "cell_type": "code",
      "metadata": {
        "id": "fee87fb6"
      },
      "source": [
        "# Initial imports.\n",
        "import pandas as pd\n",
        "from sklearn.ensemble import RandomForestClassifier\n",
        "from sklearn.preprocessing import StandardScaler\n",
        "from sklearn.model_selection import train_test_split\n",
        "from collections import Counter\n",
        "from sklearn.metrics import confusion_matrix, accuracy_score, classification_report"
      ],
      "id": "fee87fb6",
      "execution_count": 20,
      "outputs": []
    },
    {
      "cell_type": "code",
      "metadata": {
        "colab": {
          "resources": {
            "http://localhost:8080/nbextensions/google.colab/files.js": {
              "data": "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",
              "ok": true,
              "headers": [
                [
                  "content-type",
                  "application/javascript"
                ]
              ],
              "status": 200,
              "status_text": ""
            }
          },
          "base_uri": "https://localhost:8080/",
          "height": 89
        },
        "id": "Pgb-wpppfuhc",
        "outputId": "ebf36210-1073-4805-ee6a-f72fd8663055"
      },
      "source": [
        "# load in csv (until database is up then detele this code)\n",
        "from google.colab import files\n",
        "\n",
        "uploaded = files.upload()\n",
        "\n",
        "for fn in uploaded.keys():\n",
        "  print('User uploaded file \"{name}\" with length {length} bytes'.format(\n",
        "      name=fn, length=len(uploaded[fn])))"
      ],
      "id": "Pgb-wpppfuhc",
      "execution_count": 2,
      "outputs": [
        {
          "output_type": "display_data",
          "data": {
            "text/html": [
              "\n",
              "     <input type=\"file\" id=\"files-41fa8ad3-ee3e-4d15-8c7d-efdca3506301\" name=\"files[]\" multiple disabled\n",
              "        style=\"border:none\" />\n",
              "     <output id=\"result-41fa8ad3-ee3e-4d15-8c7d-efdca3506301\">\n",
              "      Upload widget is only available when the cell has been executed in the\n",
              "      current browser session. Please rerun this cell to enable.\n",
              "      </output>\n",
              "      <script src=\"/nbextensions/google.colab/files.js\"></script> "
            ],
            "text/plain": [
              "<IPython.core.display.HTML object>"
            ]
          },
          "metadata": {}
        },
        {
          "output_type": "stream",
          "name": "stdout",
          "text": [
            "Saving cleaned_train.csv to cleaned_train.csv\n",
            "User uploaded file \"cleaned_train.csv\" with length 688147 bytes\n"
          ]
        }
      ]
    },
    {
      "cell_type": "code",
      "metadata": {
        "colab": {
          "base_uri": "https://localhost:8080/",
          "height": 224
        },
        "id": "L9NnYOecf10G",
        "outputId": "f6e7a0a0-b714-4531-d79e-9f2c8b900f89"
      },
      "source": [
        "# read csv into datafram to expore (until database is up then delete this code)\n",
        "pet_df = pd.read_csv('cleaned_train.csv')\n",
        "pet_df.head()"
      ],
      "id": "L9NnYOecf10G",
      "execution_count": 3,
      "outputs": [
        {
          "output_type": "execute_result",
          "data": {
            "text/html": [
              "<div>\n",
              "<style scoped>\n",
              "    .dataframe tbody tr th:only-of-type {\n",
              "        vertical-align: middle;\n",
              "    }\n",
              "\n",
              "    .dataframe tbody tr th {\n",
              "        vertical-align: top;\n",
              "    }\n",
              "\n",
              "    .dataframe thead th {\n",
              "        text-align: right;\n",
              "    }\n",
              "</style>\n",
              "<table border=\"1\" class=\"dataframe\">\n",
              "  <thead>\n",
              "    <tr style=\"text-align: right;\">\n",
              "      <th></th>\n",
              "      <th>Type</th>\n",
              "      <th>Age</th>\n",
              "      <th>Breed1</th>\n",
              "      <th>Breed2</th>\n",
              "      <th>Gender</th>\n",
              "      <th>Color1</th>\n",
              "      <th>Color2</th>\n",
              "      <th>Color3</th>\n",
              "      <th>MaturitySize</th>\n",
              "      <th>FurLength</th>\n",
              "      <th>Vaccinated</th>\n",
              "      <th>Dewormed</th>\n",
              "      <th>Sterilized</th>\n",
              "      <th>Health</th>\n",
              "      <th>Quantity</th>\n",
              "      <th>VideoAmt</th>\n",
              "      <th>PhotoAmt</th>\n",
              "      <th>AdoptionSpeed</th>\n",
              "      <th>word_count</th>\n",
              "      <th>Fee_bins</th>\n",
              "    </tr>\n",
              "  </thead>\n",
              "  <tbody>\n",
              "    <tr>\n",
              "      <th>0</th>\n",
              "      <td>2</td>\n",
              "      <td>3</td>\n",
              "      <td>299</td>\n",
              "      <td>0</td>\n",
              "      <td>1</td>\n",
              "      <td>1</td>\n",
              "      <td>7</td>\n",
              "      <td>0</td>\n",
              "      <td>1</td>\n",
              "      <td>1</td>\n",
              "      <td>2</td>\n",
              "      <td>2</td>\n",
              "      <td>2</td>\n",
              "      <td>1</td>\n",
              "      <td>1</td>\n",
              "      <td>0</td>\n",
              "      <td>1.0</td>\n",
              "      <td>2</td>\n",
              "      <td>69</td>\n",
              "      <td>2</td>\n",
              "    </tr>\n",
              "    <tr>\n",
              "      <th>1</th>\n",
              "      <td>2</td>\n",
              "      <td>1</td>\n",
              "      <td>265</td>\n",
              "      <td>0</td>\n",
              "      <td>1</td>\n",
              "      <td>1</td>\n",
              "      <td>2</td>\n",
              "      <td>0</td>\n",
              "      <td>2</td>\n",
              "      <td>2</td>\n",
              "      <td>3</td>\n",
              "      <td>3</td>\n",
              "      <td>3</td>\n",
              "      <td>1</td>\n",
              "      <td>1</td>\n",
              "      <td>0</td>\n",
              "      <td>2.0</td>\n",
              "      <td>0</td>\n",
              "      <td>23</td>\n",
              "      <td>0</td>\n",
              "    </tr>\n",
              "    <tr>\n",
              "      <th>2</th>\n",
              "      <td>1</td>\n",
              "      <td>1</td>\n",
              "      <td>307</td>\n",
              "      <td>0</td>\n",
              "      <td>1</td>\n",
              "      <td>2</td>\n",
              "      <td>7</td>\n",
              "      <td>0</td>\n",
              "      <td>2</td>\n",
              "      <td>2</td>\n",
              "      <td>1</td>\n",
              "      <td>1</td>\n",
              "      <td>2</td>\n",
              "      <td>1</td>\n",
              "      <td>1</td>\n",
              "      <td>0</td>\n",
              "      <td>7.0</td>\n",
              "      <td>3</td>\n",
              "      <td>69</td>\n",
              "      <td>0</td>\n",
              "    </tr>\n",
              "    <tr>\n",
              "      <th>3</th>\n",
              "      <td>1</td>\n",
              "      <td>4</td>\n",
              "      <td>307</td>\n",
              "      <td>0</td>\n",
              "      <td>2</td>\n",
              "      <td>1</td>\n",
              "      <td>2</td>\n",
              "      <td>0</td>\n",
              "      <td>2</td>\n",
              "      <td>1</td>\n",
              "      <td>1</td>\n",
              "      <td>1</td>\n",
              "      <td>2</td>\n",
              "      <td>1</td>\n",
              "      <td>1</td>\n",
              "      <td>0</td>\n",
              "      <td>8.0</td>\n",
              "      <td>2</td>\n",
              "      <td>25</td>\n",
              "      <td>3</td>\n",
              "    </tr>\n",
              "    <tr>\n",
              "      <th>4</th>\n",
              "      <td>1</td>\n",
              "      <td>1</td>\n",
              "      <td>307</td>\n",
              "      <td>0</td>\n",
              "      <td>1</td>\n",
              "      <td>1</td>\n",
              "      <td>0</td>\n",
              "      <td>0</td>\n",
              "      <td>2</td>\n",
              "      <td>1</td>\n",
              "      <td>2</td>\n",
              "      <td>2</td>\n",
              "      <td>2</td>\n",
              "      <td>1</td>\n",
              "      <td>1</td>\n",
              "      <td>0</td>\n",
              "      <td>3.0</td>\n",
              "      <td>2</td>\n",
              "      <td>81</td>\n",
              "      <td>0</td>\n",
              "    </tr>\n",
              "  </tbody>\n",
              "</table>\n",
              "</div>"
            ],
            "text/plain": [
              "   Type  Age  Breed1  Breed2  ...  PhotoAmt  AdoptionSpeed  word_count  Fee_bins\n",
              "0     2    3     299       0  ...       1.0              2          69         2\n",
              "1     2    1     265       0  ...       2.0              0          23         0\n",
              "2     1    1     307       0  ...       7.0              3          69         0\n",
              "3     1    4     307       0  ...       8.0              2          25         3\n",
              "4     1    1     307       0  ...       3.0              2          81         0\n",
              "\n",
              "[5 rows x 20 columns]"
            ]
          },
          "metadata": {},
          "execution_count": 3
        }
      ]
    },
    {
      "cell_type": "code",
      "metadata": {
        "id": "33866e29",
        "colab": {
          "base_uri": "https://localhost:8080/"
        },
        "outputId": "11d9aceb-0b12-4a14-ece0-fd63052cd788"
      },
      "source": [
        "pet_df.info()"
      ],
      "id": "33866e29",
      "execution_count": 4,
      "outputs": [
        {
          "output_type": "stream",
          "name": "stdout",
          "text": [
            "<class 'pandas.core.frame.DataFrame'>\n",
            "RangeIndex: 14981 entries, 0 to 14980\n",
            "Data columns (total 20 columns):\n",
            " #   Column         Non-Null Count  Dtype  \n",
            "---  ------         --------------  -----  \n",
            " 0   Type           14981 non-null  int64  \n",
            " 1   Age            14981 non-null  int64  \n",
            " 2   Breed1         14981 non-null  int64  \n",
            " 3   Breed2         14981 non-null  int64  \n",
            " 4   Gender         14981 non-null  int64  \n",
            " 5   Color1         14981 non-null  int64  \n",
            " 6   Color2         14981 non-null  int64  \n",
            " 7   Color3         14981 non-null  int64  \n",
            " 8   MaturitySize   14981 non-null  int64  \n",
            " 9   FurLength      14981 non-null  int64  \n",
            " 10  Vaccinated     14981 non-null  int64  \n",
            " 11  Dewormed       14981 non-null  int64  \n",
            " 12  Sterilized     14981 non-null  int64  \n",
            " 13  Health         14981 non-null  int64  \n",
            " 14  Quantity       14981 non-null  int64  \n",
            " 15  VideoAmt       14981 non-null  int64  \n",
            " 16  PhotoAmt       14981 non-null  float64\n",
            " 17  AdoptionSpeed  14981 non-null  int64  \n",
            " 18  word_count     14981 non-null  int64  \n",
            " 19  Fee_bins       14981 non-null  int64  \n",
            "dtypes: float64(1), int64(19)\n",
            "memory usage: 2.3 MB\n"
          ]
        }
      ]
    },
    {
      "cell_type": "markdown",
      "metadata": {
        "id": "8afa9076"
      },
      "source": [
        "# Split the Data into Training and Testing"
      ],
      "id": "8afa9076"
    },
    {
      "cell_type": "code",
      "metadata": {
        "id": "256f917c"
      },
      "source": [
        "# Create our features\n",
        "X = pet_df.drop(\"AdoptionSpeed\", axis=1)\n",
        "\n",
        "# Create our target\n",
        "y = pet_df[\"AdoptionSpeed\"]"
      ],
      "id": "256f917c",
      "execution_count": 6,
      "outputs": []
    },
    {
      "cell_type": "code",
      "metadata": {
        "id": "fbcca404",
        "colab": {
          "base_uri": "https://localhost:8080/",
          "height": 317
        },
        "outputId": "d15cbd8a-c66a-40b5-8c96-ebc56a203fad"
      },
      "source": [
        "X.describe()"
      ],
      "id": "fbcca404",
      "execution_count": 7,
      "outputs": [
        {
          "output_type": "execute_result",
          "data": {
            "text/html": [
              "<div>\n",
              "<style scoped>\n",
              "    .dataframe tbody tr th:only-of-type {\n",
              "        vertical-align: middle;\n",
              "    }\n",
              "\n",
              "    .dataframe tbody tr th {\n",
              "        vertical-align: top;\n",
              "    }\n",
              "\n",
              "    .dataframe thead th {\n",
              "        text-align: right;\n",
              "    }\n",
              "</style>\n",
              "<table border=\"1\" class=\"dataframe\">\n",
              "  <thead>\n",
              "    <tr style=\"text-align: right;\">\n",
              "      <th></th>\n",
              "      <th>Type</th>\n",
              "      <th>Age</th>\n",
              "      <th>Breed1</th>\n",
              "      <th>Breed2</th>\n",
              "      <th>Gender</th>\n",
              "      <th>Color1</th>\n",
              "      <th>Color2</th>\n",
              "      <th>Color3</th>\n",
              "      <th>MaturitySize</th>\n",
              "      <th>FurLength</th>\n",
              "      <th>Vaccinated</th>\n",
              "      <th>Dewormed</th>\n",
              "      <th>Sterilized</th>\n",
              "      <th>Health</th>\n",
              "      <th>Quantity</th>\n",
              "      <th>VideoAmt</th>\n",
              "      <th>PhotoAmt</th>\n",
              "      <th>word_count</th>\n",
              "      <th>Fee_bins</th>\n",
              "    </tr>\n",
              "  </thead>\n",
              "  <tbody>\n",
              "    <tr>\n",
              "      <th>count</th>\n",
              "      <td>14981.000000</td>\n",
              "      <td>14981.000000</td>\n",
              "      <td>14981.000000</td>\n",
              "      <td>14981.000000</td>\n",
              "      <td>14981.000000</td>\n",
              "      <td>14981.000000</td>\n",
              "      <td>14981.000000</td>\n",
              "      <td>14981.000000</td>\n",
              "      <td>14981.000000</td>\n",
              "      <td>14981.000000</td>\n",
              "      <td>14981.000000</td>\n",
              "      <td>14981.000000</td>\n",
              "      <td>14981.000000</td>\n",
              "      <td>14981.000000</td>\n",
              "      <td>14981.000000</td>\n",
              "      <td>14981.000000</td>\n",
              "      <td>14981.000000</td>\n",
              "      <td>14981.000000</td>\n",
              "      <td>14981.000000</td>\n",
              "    </tr>\n",
              "    <tr>\n",
              "      <th>mean</th>\n",
              "      <td>1.457379</td>\n",
              "      <td>10.448301</td>\n",
              "      <td>265.270543</td>\n",
              "      <td>74.013083</td>\n",
              "      <td>1.776383</td>\n",
              "      <td>2.234430</td>\n",
              "      <td>3.221681</td>\n",
              "      <td>1.883052</td>\n",
              "      <td>1.861825</td>\n",
              "      <td>1.467459</td>\n",
              "      <td>1.731260</td>\n",
              "      <td>1.558774</td>\n",
              "      <td>1.914158</td>\n",
              "      <td>1.036513</td>\n",
              "      <td>1.525599</td>\n",
              "      <td>0.056805</td>\n",
              "      <td>3.749149</td>\n",
              "      <td>63.025165</td>\n",
              "      <td>0.377345</td>\n",
              "    </tr>\n",
              "    <tr>\n",
              "      <th>std</th>\n",
              "      <td>0.498197</td>\n",
              "      <td>18.150898</td>\n",
              "      <td>60.063415</td>\n",
              "      <td>123.012891</td>\n",
              "      <td>0.681575</td>\n",
              "      <td>1.745578</td>\n",
              "      <td>2.742033</td>\n",
              "      <td>2.984552</td>\n",
              "      <td>0.547721</td>\n",
              "      <td>0.599030</td>\n",
              "      <td>0.667581</td>\n",
              "      <td>0.695758</td>\n",
              "      <td>0.565922</td>\n",
              "      <td>0.199302</td>\n",
              "      <td>1.175047</td>\n",
              "      <td>0.346319</td>\n",
              "      <td>2.861154</td>\n",
              "      <td>69.306738</td>\n",
              "      <td>1.068104</td>\n",
              "    </tr>\n",
              "    <tr>\n",
              "      <th>min</th>\n",
              "      <td>1.000000</td>\n",
              "      <td>0.000000</td>\n",
              "      <td>0.000000</td>\n",
              "      <td>0.000000</td>\n",
              "      <td>1.000000</td>\n",
              "      <td>1.000000</td>\n",
              "      <td>0.000000</td>\n",
              "      <td>0.000000</td>\n",
              "      <td>1.000000</td>\n",
              "      <td>1.000000</td>\n",
              "      <td>1.000000</td>\n",
              "      <td>1.000000</td>\n",
              "      <td>1.000000</td>\n",
              "      <td>1.000000</td>\n",
              "      <td>1.000000</td>\n",
              "      <td>0.000000</td>\n",
              "      <td>0.000000</td>\n",
              "      <td>1.000000</td>\n",
              "      <td>0.000000</td>\n",
              "    </tr>\n",
              "    <tr>\n",
              "      <th>25%</th>\n",
              "      <td>1.000000</td>\n",
              "      <td>2.000000</td>\n",
              "      <td>265.000000</td>\n",
              "      <td>0.000000</td>\n",
              "      <td>1.000000</td>\n",
              "      <td>1.000000</td>\n",
              "      <td>0.000000</td>\n",
              "      <td>0.000000</td>\n",
              "      <td>2.000000</td>\n",
              "      <td>1.000000</td>\n",
              "      <td>1.000000</td>\n",
              "      <td>1.000000</td>\n",
              "      <td>2.000000</td>\n",
              "      <td>1.000000</td>\n",
              "      <td>1.000000</td>\n",
              "      <td>0.000000</td>\n",
              "      <td>2.000000</td>\n",
              "      <td>21.000000</td>\n",
              "      <td>0.000000</td>\n",
              "    </tr>\n",
              "    <tr>\n",
              "      <th>50%</th>\n",
              "      <td>1.000000</td>\n",
              "      <td>3.000000</td>\n",
              "      <td>266.000000</td>\n",
              "      <td>0.000000</td>\n",
              "      <td>2.000000</td>\n",
              "      <td>2.000000</td>\n",
              "      <td>2.000000</td>\n",
              "      <td>0.000000</td>\n",
              "      <td>2.000000</td>\n",
              "      <td>1.000000</td>\n",
              "      <td>2.000000</td>\n",
              "      <td>1.000000</td>\n",
              "      <td>2.000000</td>\n",
              "      <td>1.000000</td>\n",
              "      <td>1.000000</td>\n",
              "      <td>0.000000</td>\n",
              "      <td>3.000000</td>\n",
              "      <td>44.000000</td>\n",
              "      <td>0.000000</td>\n",
              "    </tr>\n",
              "    <tr>\n",
              "      <th>75%</th>\n",
              "      <td>2.000000</td>\n",
              "      <td>11.000000</td>\n",
              "      <td>307.000000</td>\n",
              "      <td>179.000000</td>\n",
              "      <td>2.000000</td>\n",
              "      <td>3.000000</td>\n",
              "      <td>6.000000</td>\n",
              "      <td>5.000000</td>\n",
              "      <td>2.000000</td>\n",
              "      <td>2.000000</td>\n",
              "      <td>2.000000</td>\n",
              "      <td>2.000000</td>\n",
              "      <td>2.000000</td>\n",
              "      <td>1.000000</td>\n",
              "      <td>1.000000</td>\n",
              "      <td>0.000000</td>\n",
              "      <td>5.000000</td>\n",
              "      <td>81.000000</td>\n",
              "      <td>0.000000</td>\n",
              "    </tr>\n",
              "    <tr>\n",
              "      <th>max</th>\n",
              "      <td>2.000000</td>\n",
              "      <td>255.000000</td>\n",
              "      <td>307.000000</td>\n",
              "      <td>307.000000</td>\n",
              "      <td>3.000000</td>\n",
              "      <td>7.000000</td>\n",
              "      <td>7.000000</td>\n",
              "      <td>7.000000</td>\n",
              "      <td>4.000000</td>\n",
              "      <td>3.000000</td>\n",
              "      <td>3.000000</td>\n",
              "      <td>3.000000</td>\n",
              "      <td>3.000000</td>\n",
              "      <td>3.000000</td>\n",
              "      <td>6.000000</td>\n",
              "      <td>8.000000</td>\n",
              "      <td>13.000000</td>\n",
              "      <td>1257.000000</td>\n",
              "      <td>5.000000</td>\n",
              "    </tr>\n",
              "  </tbody>\n",
              "</table>\n",
              "</div>"
            ],
            "text/plain": [
              "               Type           Age  ...    word_count      Fee_bins\n",
              "count  14981.000000  14981.000000  ...  14981.000000  14981.000000\n",
              "mean       1.457379     10.448301  ...     63.025165      0.377345\n",
              "std        0.498197     18.150898  ...     69.306738      1.068104\n",
              "min        1.000000      0.000000  ...      1.000000      0.000000\n",
              "25%        1.000000      2.000000  ...     21.000000      0.000000\n",
              "50%        1.000000      3.000000  ...     44.000000      0.000000\n",
              "75%        2.000000     11.000000  ...     81.000000      0.000000\n",
              "max        2.000000    255.000000  ...   1257.000000      5.000000\n",
              "\n",
              "[8 rows x 19 columns]"
            ]
          },
          "metadata": {},
          "execution_count": 7
        }
      ]
    },
    {
      "cell_type": "code",
      "metadata": {
        "id": "b7df4773",
        "colab": {
          "base_uri": "https://localhost:8080/"
        },
        "outputId": "41c60fad-d3a3-4548-8d13-64bf5d8bddc5"
      },
      "source": [
        "# Check the balance of our target values\n",
        "y.value_counts()"
      ],
      "id": "b7df4773",
      "execution_count": 8,
      "outputs": [
        {
          "output_type": "execute_result",
          "data": {
            "text/plain": [
              "4    4193\n",
              "2    4032\n",
              "3    3258\n",
              "1    3088\n",
              "0     410\n",
              "Name: AdoptionSpeed, dtype: int64"
            ]
          },
          "metadata": {},
          "execution_count": 8
        }
      ]
    },
    {
      "cell_type": "code",
      "metadata": {
        "id": "1e752bcf",
        "colab": {
          "base_uri": "https://localhost:8080/"
        },
        "outputId": "a3868d31-1b26-4702-a66e-b8e872e42481"
      },
      "source": [
        "from sklearn.model_selection import train_test_split\n",
        "X_train, X_test, y_train, y_test = train_test_split(X, y, random_state=1)\n",
        "Counter(y_train)"
      ],
      "id": "1e752bcf",
      "execution_count": 9,
      "outputs": [
        {
          "output_type": "execute_result",
          "data": {
            "text/plain": [
              "Counter({0: 311, 1: 2303, 2: 3034, 3: 2457, 4: 3130})"
            ]
          },
          "metadata": {},
          "execution_count": 9
        }
      ]
    },
    {
      "cell_type": "code",
      "metadata": {
        "id": "2b4d5e79"
      },
      "source": [
        "# Creating a StandardScaler instance.\n",
        "scaler = StandardScaler()\n",
        "# Fitting the Standard Scaler with the training data.\n",
        "X_scaler = scaler.fit(X_train)\n",
        "\n",
        "# Scaling the data.\n",
        "X_train_scaled = X_scaler.transform(X_train)\n",
        "X_test_scaled = X_scaler.transform(X_test)"
      ],
      "id": "2b4d5e79",
      "execution_count": 10,
      "outputs": []
    },
    {
      "cell_type": "markdown",
      "metadata": {
        "id": "a913399c"
      },
      "source": [
        "## RandomForestClassifier"
      ],
      "id": "a913399c"
    },
    {
      "cell_type": "code",
      "metadata": {
        "id": "6a7f1d7e"
      },
      "source": [
        "# Create a random forest classifier.\n",
        "rf_model = RandomForestClassifier(n_estimators=128, random_state=1) "
      ],
      "id": "6a7f1d7e",
      "execution_count": 11,
      "outputs": []
    },
    {
      "cell_type": "code",
      "metadata": {
        "id": "3d6b6535"
      },
      "source": [
        "# Fitting the model\n",
        "rf_model = rf_model.fit(X_train_scaled, y_train)"
      ],
      "id": "3d6b6535",
      "execution_count": 12,
      "outputs": []
    },
    {
      "cell_type": "code",
      "metadata": {
        "id": "480ce3a7",
        "colab": {
          "base_uri": "https://localhost:8080/"
        },
        "outputId": "1f451ce6-0168-4a12-d08a-0c653d2c59b8"
      },
      "source": [
        "# Making predictions using the testing data.\n",
        "predictions = rf_model.predict(X_test_scaled)\n",
        "predictions "
      ],
      "id": "480ce3a7",
      "execution_count": 13,
      "outputs": [
        {
          "output_type": "execute_result",
          "data": {
            "text/plain": [
              "array([1, 4, 3, ..., 2, 2, 2])"
            ]
          },
          "metadata": {},
          "execution_count": 13
        }
      ]
    },
    {
      "cell_type": "code",
      "metadata": {
        "id": "14145e2f",
        "colab": {
          "base_uri": "https://localhost:8080/"
        },
        "outputId": "a48511c4-f260-4d0d-d0da-bb940239c989"
      },
      "source": [
        "# Calculating the accuracy score.\n",
        "acc_score = accuracy_score(y_test, predictions)\n",
        "acc_score"
      ],
      "id": "14145e2f",
      "execution_count": 14,
      "outputs": [
        {
          "output_type": "execute_result",
          "data": {
            "text/plain": [
              "0.41350774159103043"
            ]
          },
          "metadata": {},
          "execution_count": 14
        }
      ]
    },
    {
      "cell_type": "code",
      "metadata": {
        "id": "85d7f548",
        "colab": {
          "base_uri": "https://localhost:8080/",
          "height": 204
        },
        "outputId": "d0d165c5-6337-436a-ea65-4a4fef8596ef"
      },
      "source": [
        "# Calculating the confusion matrix.\n",
        "cm = confusion_matrix(y_test, predictions)\n",
        "cm\n",
        "# Create a DataFrame from the confusion matrix.\n",
        "cm_df = pd.DataFrame(cm, index=[\"Actual 0\", \"Actual 1\", \"Actual 2\",\"Actual 3\", \"Actual 4\"], columns=[\"Predicted 0\", \"Predicted 1\",\"Predicted 2\",\"Predicted 3\",\"Predicted 4\"])\n",
        "\n",
        "cm_df"
      ],
      "id": "85d7f548",
      "execution_count": 18,
      "outputs": [
        {
          "output_type": "execute_result",
          "data": {
            "text/html": [
              "<div>\n",
              "<style scoped>\n",
              "    .dataframe tbody tr th:only-of-type {\n",
              "        vertical-align: middle;\n",
              "    }\n",
              "\n",
              "    .dataframe tbody tr th {\n",
              "        vertical-align: top;\n",
              "    }\n",
              "\n",
              "    .dataframe thead th {\n",
              "        text-align: right;\n",
              "    }\n",
              "</style>\n",
              "<table border=\"1\" class=\"dataframe\">\n",
              "  <thead>\n",
              "    <tr style=\"text-align: right;\">\n",
              "      <th></th>\n",
              "      <th>Predicted 0</th>\n",
              "      <th>Predicted 1</th>\n",
              "      <th>Predicted 2</th>\n",
              "      <th>Predicted 3</th>\n",
              "      <th>Predicted 4</th>\n",
              "    </tr>\n",
              "  </thead>\n",
              "  <tbody>\n",
              "    <tr>\n",
              "      <th>Actual 0</th>\n",
              "      <td>2</td>\n",
              "      <td>33</td>\n",
              "      <td>22</td>\n",
              "      <td>13</td>\n",
              "      <td>29</td>\n",
              "    </tr>\n",
              "    <tr>\n",
              "      <th>Actual 1</th>\n",
              "      <td>4</td>\n",
              "      <td>270</td>\n",
              "      <td>273</td>\n",
              "      <td>84</td>\n",
              "      <td>154</td>\n",
              "    </tr>\n",
              "    <tr>\n",
              "      <th>Actual 2</th>\n",
              "      <td>1</td>\n",
              "      <td>213</td>\n",
              "      <td>392</td>\n",
              "      <td>162</td>\n",
              "      <td>230</td>\n",
              "    </tr>\n",
              "    <tr>\n",
              "      <th>Actual 3</th>\n",
              "      <td>1</td>\n",
              "      <td>127</td>\n",
              "      <td>221</td>\n",
              "      <td>215</td>\n",
              "      <td>237</td>\n",
              "    </tr>\n",
              "    <tr>\n",
              "      <th>Actual 4</th>\n",
              "      <td>1</td>\n",
              "      <td>99</td>\n",
              "      <td>180</td>\n",
              "      <td>113</td>\n",
              "      <td>670</td>\n",
              "    </tr>\n",
              "  </tbody>\n",
              "</table>\n",
              "</div>"
            ],
            "text/plain": [
              "          Predicted 0  Predicted 1  Predicted 2  Predicted 3  Predicted 4\n",
              "Actual 0            2           33           22           13           29\n",
              "Actual 1            4          270          273           84          154\n",
              "Actual 2            1          213          392          162          230\n",
              "Actual 3            1          127          221          215          237\n",
              "Actual 4            1           99          180          113          670"
            ]
          },
          "metadata": {},
          "execution_count": 18
        }
      ]
    },
    {
      "cell_type": "code",
      "metadata": {
        "id": "9bf6a126",
        "colab": {
          "base_uri": "https://localhost:8080/",
          "height": 459
        },
        "outputId": "b3760993-cdd9-4840-d03e-dd2a905f5ef7"
      },
      "source": [
        "# Displaying results\n",
        "print(\"Confusion Matrix\")\n",
        "display(cm_df)\n",
        "print(f\"Accuracy Score : {acc_score}\")\n",
        "print(\"Classification Report\")\n",
        "print(classification_report(y_test, predictions))"
      ],
      "id": "9bf6a126",
      "execution_count": 21,
      "outputs": [
        {
          "output_type": "stream",
          "name": "stdout",
          "text": [
            "Confusion Matrix\n"
          ]
        },
        {
          "output_type": "display_data",
          "data": {
            "text/html": [
              "<div>\n",
              "<style scoped>\n",
              "    .dataframe tbody tr th:only-of-type {\n",
              "        vertical-align: middle;\n",
              "    }\n",
              "\n",
              "    .dataframe tbody tr th {\n",
              "        vertical-align: top;\n",
              "    }\n",
              "\n",
              "    .dataframe thead th {\n",
              "        text-align: right;\n",
              "    }\n",
              "</style>\n",
              "<table border=\"1\" class=\"dataframe\">\n",
              "  <thead>\n",
              "    <tr style=\"text-align: right;\">\n",
              "      <th></th>\n",
              "      <th>Predicted 0</th>\n",
              "      <th>Predicted 1</th>\n",
              "      <th>Predicted 2</th>\n",
              "      <th>Predicted 3</th>\n",
              "      <th>Predicted 4</th>\n",
              "    </tr>\n",
              "  </thead>\n",
              "  <tbody>\n",
              "    <tr>\n",
              "      <th>Actual 0</th>\n",
              "      <td>2</td>\n",
              "      <td>33</td>\n",
              "      <td>22</td>\n",
              "      <td>13</td>\n",
              "      <td>29</td>\n",
              "    </tr>\n",
              "    <tr>\n",
              "      <th>Actual 1</th>\n",
              "      <td>4</td>\n",
              "      <td>270</td>\n",
              "      <td>273</td>\n",
              "      <td>84</td>\n",
              "      <td>154</td>\n",
              "    </tr>\n",
              "    <tr>\n",
              "      <th>Actual 2</th>\n",
              "      <td>1</td>\n",
              "      <td>213</td>\n",
              "      <td>392</td>\n",
              "      <td>162</td>\n",
              "      <td>230</td>\n",
              "    </tr>\n",
              "    <tr>\n",
              "      <th>Actual 3</th>\n",
              "      <td>1</td>\n",
              "      <td>127</td>\n",
              "      <td>221</td>\n",
              "      <td>215</td>\n",
              "      <td>237</td>\n",
              "    </tr>\n",
              "    <tr>\n",
              "      <th>Actual 4</th>\n",
              "      <td>1</td>\n",
              "      <td>99</td>\n",
              "      <td>180</td>\n",
              "      <td>113</td>\n",
              "      <td>670</td>\n",
              "    </tr>\n",
              "  </tbody>\n",
              "</table>\n",
              "</div>"
            ],
            "text/plain": [
              "          Predicted 0  Predicted 1  Predicted 2  Predicted 3  Predicted 4\n",
              "Actual 0            2           33           22           13           29\n",
              "Actual 1            4          270          273           84          154\n",
              "Actual 2            1          213          392          162          230\n",
              "Actual 3            1          127          221          215          237\n",
              "Actual 4            1           99          180          113          670"
            ]
          },
          "metadata": {}
        },
        {
          "output_type": "stream",
          "name": "stdout",
          "text": [
            "Accuracy Score : 0.41350774159103043\n",
            "Classification Report\n",
            "              precision    recall  f1-score   support\n",
            "\n",
            "           0       0.22      0.02      0.04        99\n",
            "           1       0.36      0.34      0.35       785\n",
            "           2       0.36      0.39      0.38       998\n",
            "           3       0.37      0.27      0.31       801\n",
            "           4       0.51      0.63      0.56      1063\n",
            "\n",
            "    accuracy                           0.41      3746\n",
            "   macro avg       0.36      0.33      0.33      3746\n",
            "weighted avg       0.40      0.41      0.40      3746\n",
            "\n"
          ]
        }
      ]
    },
    {
      "cell_type": "code",
      "metadata": {
        "colab": {
          "base_uri": "https://localhost:8080/"
        },
        "id": "rypwA4XgimuL",
        "outputId": "43f95512-824f-4758-d1f6-b706ddd8b588"
      },
      "source": [
        "# Calculate feature importance in the Random Forest model.\n",
        "importances = rf_model.feature_importances_\n",
        "importances"
      ],
      "id": "rypwA4XgimuL",
      "execution_count": 22,
      "outputs": [
        {
          "output_type": "execute_result",
          "data": {
            "text/plain": [
              "array([0.0090502 , 0.10963755, 0.07038043, 0.04714948, 0.03847839,\n",
              "       0.06954524, 0.07102324, 0.03495131, 0.03736809, 0.0394702 ,\n",
              "       0.02975295, 0.03174993, 0.02847046, 0.00910928, 0.03489444,\n",
              "       0.01027246, 0.10998972, 0.18681237, 0.03189425])"
            ]
          },
          "metadata": {},
          "execution_count": 22
        }
      ]
    },
    {
      "cell_type": "code",
      "metadata": {
        "colab": {
          "base_uri": "https://localhost:8080/"
        },
        "id": "Vhzub51WjjR9",
        "outputId": "c337b22b-f20b-410a-d361-3ae68c73cec8"
      },
      "source": [
        "# We can sort the features by their importance.\n",
        "sorted(zip(rf_model.feature_importances_, X.columns), reverse=True)\n"
      ],
      "id": "Vhzub51WjjR9",
      "execution_count": 23,
      "outputs": [
        {
          "output_type": "execute_result",
          "data": {
            "text/plain": [
              "[(0.18681237377150112, 'word_count'),\n",
              " (0.109989718847057, 'PhotoAmt'),\n",
              " (0.1096375481912168, 'Age'),\n",
              " (0.07102324470634117, 'Color2'),\n",
              " (0.07038042603872528, 'Breed1'),\n",
              " (0.06954523537473632, 'Color1'),\n",
              " (0.04714947730736535, 'Breed2'),\n",
              " (0.03947020420601331, 'FurLength'),\n",
              " (0.03847838738849204, 'Gender'),\n",
              " (0.03736809253306168, 'MaturitySize'),\n",
              " (0.034951310594454714, 'Color3'),\n",
              " (0.0348944438725393, 'Quantity'),\n",
              " (0.03189425025950297, 'Fee_bins'),\n",
              " (0.031749929446407935, 'Dewormed'),\n",
              " (0.029752953618307102, 'Vaccinated'),\n",
              " (0.028470457630819665, 'Sterilized'),\n",
              " (0.010272463142986228, 'VideoAmt'),\n",
              " (0.009109280747774512, 'Health'),\n",
              " (0.009050202322697464, 'Type')]"
            ]
          },
          "metadata": {},
          "execution_count": 23
        }
      ]
    },
    {
      "cell_type": "markdown",
      "metadata": {
        "id": "s3vpHu0Nklml"
      },
      "source": [
        "Try running same model but dropping the features that seem less important, starting with VideoAmt, Health and Type as they had 0.01 or less effect on original model"
      ],
      "id": "s3vpHu0Nklml"
    },
    {
      "cell_type": "code",
      "metadata": {
        "id": "2is6QoCjkxuw"
      },
      "source": [
        "# Create our features\n",
        "X2 = pet_df.drop([\"AdoptionSpeed\", \"Type\", \"VideoAmt\", \"Health\"], axis=1)\n",
        "\n",
        "# Create our target\n",
        "y2 = pet_df[\"AdoptionSpeed\"]"
      ],
      "id": "2is6QoCjkxuw",
      "execution_count": 25,
      "outputs": []
    },
    {
      "cell_type": "code",
      "metadata": {
        "colab": {
          "base_uri": "https://localhost:8080/"
        },
        "id": "uLgv5fU3kk-6",
        "outputId": "8aceefbb-5b85-4fc8-b369-d864e66d1fa3"
      },
      "source": [
        "#split the data\n",
        "X_train2, X_test2, y_train2, y_test2 = train_test_split(X2, y2, random_state=1)\n",
        "Counter(y_train2)"
      ],
      "id": "uLgv5fU3kk-6",
      "execution_count": 26,
      "outputs": [
        {
          "output_type": "execute_result",
          "data": {
            "text/plain": [
              "Counter({0: 311, 1: 2303, 2: 3034, 3: 2457, 4: 3130})"
            ]
          },
          "metadata": {},
          "execution_count": 26
        }
      ]
    },
    {
      "cell_type": "code",
      "metadata": {
        "id": "YDyvvAthlELT"
      },
      "source": [
        "# Fitting the Standard Scaler with the training data.\n",
        "X_scaler2 = scaler.fit(X_train2)\n",
        "\n",
        "# Scaling the data.\n",
        "X_train_scaled2 = X_scaler2.transform(X_train2)\n",
        "X_test_scaled2 = X_scaler2.transform(X_test2)"
      ],
      "id": "YDyvvAthlELT",
      "execution_count": 27,
      "outputs": []
    },
    {
      "cell_type": "code",
      "metadata": {
        "id": "gUi8Pt5ClEyt"
      },
      "source": [
        "# Create a random forest classifier.\n",
        "rf_model2 = RandomForestClassifier(n_estimators=128, random_state=1) "
      ],
      "id": "gUi8Pt5ClEyt",
      "execution_count": 28,
      "outputs": []
    },
    {
      "cell_type": "code",
      "metadata": {
        "id": "Hg7ok-rOlKhO"
      },
      "source": [
        "# Fitting the model\n",
        "rf_model2 = rf_model2.fit(X_train_scaled2, y_train2)"
      ],
      "id": "Hg7ok-rOlKhO",
      "execution_count": 29,
      "outputs": []
    },
    {
      "cell_type": "code",
      "metadata": {
        "colab": {
          "base_uri": "https://localhost:8080/"
        },
        "id": "npRjd3WUlN-K",
        "outputId": "1464a2da-ebe9-46ba-e21f-5a1e721cbdcd"
      },
      "source": [
        "# Making predictions using the testing data.\n",
        "predictions2 = rf_model2.predict(X_test_scaled2)\n",
        "predictions2 "
      ],
      "id": "npRjd3WUlN-K",
      "execution_count": 30,
      "outputs": [
        {
          "output_type": "execute_result",
          "data": {
            "text/plain": [
              "array([2, 4, 3, ..., 2, 2, 2])"
            ]
          },
          "metadata": {},
          "execution_count": 30
        }
      ]
    },
    {
      "cell_type": "code",
      "metadata": {
        "colab": {
          "base_uri": "https://localhost:8080/"
        },
        "id": "WjnuCdjvlYh3",
        "outputId": "2e7ce687-6f50-42bb-e9de-26882ed7dada"
      },
      "source": [
        "# Calculating the accuracy score.\n",
        "acc_score2 = accuracy_score(y_test2, predictions2)\n",
        "acc_score2"
      ],
      "id": "WjnuCdjvlYh3",
      "execution_count": 31,
      "outputs": [
        {
          "output_type": "execute_result",
          "data": {
            "text/plain": [
              "0.4159103043246129"
            ]
          },
          "metadata": {},
          "execution_count": 31
        }
      ]
    },
    {
      "cell_type": "code",
      "metadata": {
        "colab": {
          "base_uri": "https://localhost:8080/",
          "height": 204
        },
        "id": "TgOuFVVXlRMz",
        "outputId": "4e7aa345-5af7-46e9-e39d-b95340e728d7"
      },
      "source": [
        "# Calculating the confusion matrix.\n",
        "cm2 = confusion_matrix(y_test2, predictions2)\n",
        "cm2\n",
        "# Create a DataFrame from the confusion matrix.\n",
        "cm_df2 = pd.DataFrame(cm2, index=[\"Actual 0\", \"Actual 1\", \"Actual 2\",\"Actual 3\", \"Actual 4\"], columns=[\"Predicted 0\", \"Predicted 1\",\"Predicted 2\",\"Predicted 3\",\"Predicted 4\"])\n",
        "\n",
        "cm_df2"
      ],
      "id": "TgOuFVVXlRMz",
      "execution_count": 32,
      "outputs": [
        {
          "output_type": "execute_result",
          "data": {
            "text/html": [
              "<div>\n",
              "<style scoped>\n",
              "    .dataframe tbody tr th:only-of-type {\n",
              "        vertical-align: middle;\n",
              "    }\n",
              "\n",
              "    .dataframe tbody tr th {\n",
              "        vertical-align: top;\n",
              "    }\n",
              "\n",
              "    .dataframe thead th {\n",
              "        text-align: right;\n",
              "    }\n",
              "</style>\n",
              "<table border=\"1\" class=\"dataframe\">\n",
              "  <thead>\n",
              "    <tr style=\"text-align: right;\">\n",
              "      <th></th>\n",
              "      <th>Predicted 0</th>\n",
              "      <th>Predicted 1</th>\n",
              "      <th>Predicted 2</th>\n",
              "      <th>Predicted 3</th>\n",
              "      <th>Predicted 4</th>\n",
              "    </tr>\n",
              "  </thead>\n",
              "  <tbody>\n",
              "    <tr>\n",
              "      <th>Actual 0</th>\n",
              "      <td>1</td>\n",
              "      <td>29</td>\n",
              "      <td>22</td>\n",
              "      <td>12</td>\n",
              "      <td>35</td>\n",
              "    </tr>\n",
              "    <tr>\n",
              "      <th>Actual 1</th>\n",
              "      <td>5</td>\n",
              "      <td>289</td>\n",
              "      <td>242</td>\n",
              "      <td>89</td>\n",
              "      <td>160</td>\n",
              "    </tr>\n",
              "    <tr>\n",
              "      <th>Actual 2</th>\n",
              "      <td>1</td>\n",
              "      <td>215</td>\n",
              "      <td>375</td>\n",
              "      <td>186</td>\n",
              "      <td>221</td>\n",
              "    </tr>\n",
              "    <tr>\n",
              "      <th>Actual 3</th>\n",
              "      <td>1</td>\n",
              "      <td>130</td>\n",
              "      <td>215</td>\n",
              "      <td>215</td>\n",
              "      <td>240</td>\n",
              "    </tr>\n",
              "    <tr>\n",
              "      <th>Actual 4</th>\n",
              "      <td>1</td>\n",
              "      <td>95</td>\n",
              "      <td>165</td>\n",
              "      <td>124</td>\n",
              "      <td>678</td>\n",
              "    </tr>\n",
              "  </tbody>\n",
              "</table>\n",
              "</div>"
            ],
            "text/plain": [
              "          Predicted 0  Predicted 1  Predicted 2  Predicted 3  Predicted 4\n",
              "Actual 0            1           29           22           12           35\n",
              "Actual 1            5          289          242           89          160\n",
              "Actual 2            1          215          375          186          221\n",
              "Actual 3            1          130          215          215          240\n",
              "Actual 4            1           95          165          124          678"
            ]
          },
          "metadata": {},
          "execution_count": 32
        }
      ]
    },
    {
      "cell_type": "code",
      "metadata": {
        "colab": {
          "base_uri": "https://localhost:8080/",
          "height": 459
        },
        "id": "rQwWJJ7WlUUf",
        "outputId": "2c1a4911-91f9-4a26-ecb4-812f38de6ea4"
      },
      "source": [
        "# Displaying results\n",
        "print(\"Confusion Matrix\")\n",
        "display(cm_df2)\n",
        "print(f\"Accuracy Score : {acc_score2}\")\n",
        "print(\"Classification Report\")\n",
        "print(classification_report(y_test2, predictions2))"
      ],
      "id": "rQwWJJ7WlUUf",
      "execution_count": 33,
      "outputs": [
        {
          "output_type": "stream",
          "name": "stdout",
          "text": [
            "Confusion Matrix\n"
          ]
        },
        {
          "output_type": "display_data",
          "data": {
            "text/html": [
              "<div>\n",
              "<style scoped>\n",
              "    .dataframe tbody tr th:only-of-type {\n",
              "        vertical-align: middle;\n",
              "    }\n",
              "\n",
              "    .dataframe tbody tr th {\n",
              "        vertical-align: top;\n",
              "    }\n",
              "\n",
              "    .dataframe thead th {\n",
              "        text-align: right;\n",
              "    }\n",
              "</style>\n",
              "<table border=\"1\" class=\"dataframe\">\n",
              "  <thead>\n",
              "    <tr style=\"text-align: right;\">\n",
              "      <th></th>\n",
              "      <th>Predicted 0</th>\n",
              "      <th>Predicted 1</th>\n",
              "      <th>Predicted 2</th>\n",
              "      <th>Predicted 3</th>\n",
              "      <th>Predicted 4</th>\n",
              "    </tr>\n",
              "  </thead>\n",
              "  <tbody>\n",
              "    <tr>\n",
              "      <th>Actual 0</th>\n",
              "      <td>1</td>\n",
              "      <td>29</td>\n",
              "      <td>22</td>\n",
              "      <td>12</td>\n",
              "      <td>35</td>\n",
              "    </tr>\n",
              "    <tr>\n",
              "      <th>Actual 1</th>\n",
              "      <td>5</td>\n",
              "      <td>289</td>\n",
              "      <td>242</td>\n",
              "      <td>89</td>\n",
              "      <td>160</td>\n",
              "    </tr>\n",
              "    <tr>\n",
              "      <th>Actual 2</th>\n",
              "      <td>1</td>\n",
              "      <td>215</td>\n",
              "      <td>375</td>\n",
              "      <td>186</td>\n",
              "      <td>221</td>\n",
              "    </tr>\n",
              "    <tr>\n",
              "      <th>Actual 3</th>\n",
              "      <td>1</td>\n",
              "      <td>130</td>\n",
              "      <td>215</td>\n",
              "      <td>215</td>\n",
              "      <td>240</td>\n",
              "    </tr>\n",
              "    <tr>\n",
              "      <th>Actual 4</th>\n",
              "      <td>1</td>\n",
              "      <td>95</td>\n",
              "      <td>165</td>\n",
              "      <td>124</td>\n",
              "      <td>678</td>\n",
              "    </tr>\n",
              "  </tbody>\n",
              "</table>\n",
              "</div>"
            ],
            "text/plain": [
              "          Predicted 0  Predicted 1  Predicted 2  Predicted 3  Predicted 4\n",
              "Actual 0            1           29           22           12           35\n",
              "Actual 1            5          289          242           89          160\n",
              "Actual 2            1          215          375          186          221\n",
              "Actual 3            1          130          215          215          240\n",
              "Actual 4            1           95          165          124          678"
            ]
          },
          "metadata": {}
        },
        {
          "output_type": "stream",
          "name": "stdout",
          "text": [
            "Accuracy Score : 0.4159103043246129\n",
            "Classification Report\n",
            "              precision    recall  f1-score   support\n",
            "\n",
            "           0       0.11      0.01      0.02        99\n",
            "           1       0.38      0.37      0.37       785\n",
            "           2       0.37      0.38      0.37       998\n",
            "           3       0.34      0.27      0.30       801\n",
            "           4       0.51      0.64      0.57      1063\n",
            "\n",
            "    accuracy                           0.42      3746\n",
            "   macro avg       0.34      0.33      0.33      3746\n",
            "weighted avg       0.40      0.42      0.40      3746\n",
            "\n"
          ]
        }
      ]
    },
    {
      "cell_type": "markdown",
      "metadata": {
        "id": "vTDBssWKmLFb"
      },
      "source": [
        "pass 3 - try taking out other features FurLength','Gender' 'MaturitySize','Color3','Quantity','Fee_bins','Dewormed','Vaccinated','Sterilized' as all these had less than 0.04 effect on first model"
      ],
      "id": "vTDBssWKmLFb"
    },
    {
      "cell_type": "code",
      "metadata": {
        "id": "ySlVuH8amKxF"
      },
      "source": [
        "# Create our features\n",
        "X3 = pet_df.drop([\"AdoptionSpeed\", \"Type\", \"VideoAmt\", \"Health\", 'FurLength','Gender','MaturitySize','Color3','Quantity','Fee_bins','Dewormed','Vaccinated','Sterilized'], axis=1)\n",
        "\n",
        "# Create our target\n",
        "y3 = pet_df[\"AdoptionSpeed\"]"
      ],
      "id": "ySlVuH8amKxF",
      "execution_count": 35,
      "outputs": []
    },
    {
      "cell_type": "code",
      "metadata": {
        "id": "YYJbeaLIm_8r"
      },
      "source": [
        "#split the data\n",
        "X_train3, X_test3, y_train3, y_test3 = train_test_split(X3, y3, random_state=1)\n",
        "Counter(y_train3)\n",
        "\n",
        "# Fitting the Standard Scaler with the training data.\n",
        "X_scaler3 = scaler.fit(X_train3)\n",
        "\n",
        "# Scaling the data.\n",
        "X_train_scaled3 = X_scaler3.transform(X_train3)\n",
        "X_test_scaled3 = X_scaler3.transform(X_test3)"
      ],
      "id": "YYJbeaLIm_8r",
      "execution_count": 36,
      "outputs": []
    },
    {
      "cell_type": "code",
      "metadata": {
        "id": "puJsa1kdnDhg"
      },
      "source": [
        "# Create a random forest classifier.\n",
        "rf_model3 = RandomForestClassifier(n_estimators=128, random_state=1) \n",
        "\n",
        "# Fitting the model\n",
        "rf_model3 = rf_model3.fit(X_train_scaled3, y_train3)"
      ],
      "id": "puJsa1kdnDhg",
      "execution_count": 37,
      "outputs": []
    },
    {
      "cell_type": "code",
      "metadata": {
        "id": "jelVtbIEnJkw"
      },
      "source": [
        "# Making predictions using the testing data.\n",
        "predictions3 = rf_model3.predict(X_test_scaled3)"
      ],
      "id": "jelVtbIEnJkw",
      "execution_count": 38,
      "outputs": []
    },
    {
      "cell_type": "code",
      "metadata": {
        "colab": {
          "base_uri": "https://localhost:8080/",
          "height": 204
        },
        "id": "5nNbkvRZnQaJ",
        "outputId": "eddbecc7-655e-46ca-f71b-c879d63743d8"
      },
      "source": [
        "# Calculating the accuracy score.\n",
        "acc_score3 = accuracy_score(y_test3, predictions3)\n",
        "acc_score3\n",
        "\n",
        "# Calculating the confusion matrix.\n",
        "cm3 = confusion_matrix(y_test3, predictions3)\n",
        "cm3\n",
        "# Create a DataFrame from the confusion matrix.\n",
        "cm_df3 = pd.DataFrame(cm3, index=[\"Actual 0\", \"Actual 1\", \"Actual 2\",\"Actual 3\", \"Actual 4\"], columns=[\"Predicted 0\", \"Predicted 1\",\"Predicted 2\",\"Predicted 3\",\"Predicted 4\"])\n",
        "\n",
        "cm_df3"
      ],
      "id": "5nNbkvRZnQaJ",
      "execution_count": 39,
      "outputs": [
        {
          "output_type": "execute_result",
          "data": {
            "text/html": [
              "<div>\n",
              "<style scoped>\n",
              "    .dataframe tbody tr th:only-of-type {\n",
              "        vertical-align: middle;\n",
              "    }\n",
              "\n",
              "    .dataframe tbody tr th {\n",
              "        vertical-align: top;\n",
              "    }\n",
              "\n",
              "    .dataframe thead th {\n",
              "        text-align: right;\n",
              "    }\n",
              "</style>\n",
              "<table border=\"1\" class=\"dataframe\">\n",
              "  <thead>\n",
              "    <tr style=\"text-align: right;\">\n",
              "      <th></th>\n",
              "      <th>Predicted 0</th>\n",
              "      <th>Predicted 1</th>\n",
              "      <th>Predicted 2</th>\n",
              "      <th>Predicted 3</th>\n",
              "      <th>Predicted 4</th>\n",
              "    </tr>\n",
              "  </thead>\n",
              "  <tbody>\n",
              "    <tr>\n",
              "      <th>Actual 0</th>\n",
              "      <td>4</td>\n",
              "      <td>26</td>\n",
              "      <td>22</td>\n",
              "      <td>15</td>\n",
              "      <td>32</td>\n",
              "    </tr>\n",
              "    <tr>\n",
              "      <th>Actual 1</th>\n",
              "      <td>10</td>\n",
              "      <td>238</td>\n",
              "      <td>238</td>\n",
              "      <td>144</td>\n",
              "      <td>155</td>\n",
              "    </tr>\n",
              "    <tr>\n",
              "      <th>Actual 2</th>\n",
              "      <td>11</td>\n",
              "      <td>210</td>\n",
              "      <td>350</td>\n",
              "      <td>196</td>\n",
              "      <td>231</td>\n",
              "    </tr>\n",
              "    <tr>\n",
              "      <th>Actual 3</th>\n",
              "      <td>3</td>\n",
              "      <td>147</td>\n",
              "      <td>236</td>\n",
              "      <td>199</td>\n",
              "      <td>216</td>\n",
              "    </tr>\n",
              "    <tr>\n",
              "      <th>Actual 4</th>\n",
              "      <td>5</td>\n",
              "      <td>124</td>\n",
              "      <td>215</td>\n",
              "      <td>151</td>\n",
              "      <td>568</td>\n",
              "    </tr>\n",
              "  </tbody>\n",
              "</table>\n",
              "</div>"
            ],
            "text/plain": [
              "          Predicted 0  Predicted 1  Predicted 2  Predicted 3  Predicted 4\n",
              "Actual 0            4           26           22           15           32\n",
              "Actual 1           10          238          238          144          155\n",
              "Actual 2           11          210          350          196          231\n",
              "Actual 3            3          147          236          199          216\n",
              "Actual 4            5          124          215          151          568"
            ]
          },
          "metadata": {},
          "execution_count": 39
        }
      ]
    },
    {
      "cell_type": "code",
      "metadata": {
        "colab": {
          "base_uri": "https://localhost:8080/",
          "height": 459
        },
        "id": "mOw9IBTlnUD5",
        "outputId": "53643b21-0412-4382-a523-8809e3864652"
      },
      "source": [
        "# Displaying results\n",
        "print(\"Confusion Matrix\")\n",
        "display(cm_df3)\n",
        "print(f\"Accuracy Score : {acc_score3}\")\n",
        "print(\"Classification Report\")\n",
        "print(classification_report(y_test3, predictions3))"
      ],
      "id": "mOw9IBTlnUD5",
      "execution_count": 40,
      "outputs": [
        {
          "output_type": "stream",
          "name": "stdout",
          "text": [
            "Confusion Matrix\n"
          ]
        },
        {
          "output_type": "display_data",
          "data": {
            "text/html": [
              "<div>\n",
              "<style scoped>\n",
              "    .dataframe tbody tr th:only-of-type {\n",
              "        vertical-align: middle;\n",
              "    }\n",
              "\n",
              "    .dataframe tbody tr th {\n",
              "        vertical-align: top;\n",
              "    }\n",
              "\n",
              "    .dataframe thead th {\n",
              "        text-align: right;\n",
              "    }\n",
              "</style>\n",
              "<table border=\"1\" class=\"dataframe\">\n",
              "  <thead>\n",
              "    <tr style=\"text-align: right;\">\n",
              "      <th></th>\n",
              "      <th>Predicted 0</th>\n",
              "      <th>Predicted 1</th>\n",
              "      <th>Predicted 2</th>\n",
              "      <th>Predicted 3</th>\n",
              "      <th>Predicted 4</th>\n",
              "    </tr>\n",
              "  </thead>\n",
              "  <tbody>\n",
              "    <tr>\n",
              "      <th>Actual 0</th>\n",
              "      <td>4</td>\n",
              "      <td>26</td>\n",
              "      <td>22</td>\n",
              "      <td>15</td>\n",
              "      <td>32</td>\n",
              "    </tr>\n",
              "    <tr>\n",
              "      <th>Actual 1</th>\n",
              "      <td>10</td>\n",
              "      <td>238</td>\n",
              "      <td>238</td>\n",
              "      <td>144</td>\n",
              "      <td>155</td>\n",
              "    </tr>\n",
              "    <tr>\n",
              "      <th>Actual 2</th>\n",
              "      <td>11</td>\n",
              "      <td>210</td>\n",
              "      <td>350</td>\n",
              "      <td>196</td>\n",
              "      <td>231</td>\n",
              "    </tr>\n",
              "    <tr>\n",
              "      <th>Actual 3</th>\n",
              "      <td>3</td>\n",
              "      <td>147</td>\n",
              "      <td>236</td>\n",
              "      <td>199</td>\n",
              "      <td>216</td>\n",
              "    </tr>\n",
              "    <tr>\n",
              "      <th>Actual 4</th>\n",
              "      <td>5</td>\n",
              "      <td>124</td>\n",
              "      <td>215</td>\n",
              "      <td>151</td>\n",
              "      <td>568</td>\n",
              "    </tr>\n",
              "  </tbody>\n",
              "</table>\n",
              "</div>"
            ],
            "text/plain": [
              "          Predicted 0  Predicted 1  Predicted 2  Predicted 3  Predicted 4\n",
              "Actual 0            4           26           22           15           32\n",
              "Actual 1           10          238          238          144          155\n",
              "Actual 2           11          210          350          196          231\n",
              "Actual 3            3          147          236          199          216\n",
              "Actual 4            5          124          215          151          568"
            ]
          },
          "metadata": {}
        },
        {
          "output_type": "stream",
          "name": "stdout",
          "text": [
            "Accuracy Score : 0.3627869727709557\n",
            "Classification Report\n",
            "              precision    recall  f1-score   support\n",
            "\n",
            "           0       0.12      0.04      0.06        99\n",
            "           1       0.32      0.30      0.31       785\n",
            "           2       0.33      0.35      0.34       998\n",
            "           3       0.28      0.25      0.26       801\n",
            "           4       0.47      0.53      0.50      1063\n",
            "\n",
            "    accuracy                           0.36      3746\n",
            "   macro avg       0.31      0.30      0.30      3746\n",
            "weighted avg       0.35      0.36      0.36      3746\n",
            "\n"
          ]
        }
      ]
    },
    {
      "cell_type": "markdown",
      "metadata": {
        "id": "LGvCuUzaoR92"
      },
      "source": [
        "accuracy went down so in pass 4 - try dropping fewer features like like than 0.03 'Vaccinated', 'Sterilized','VideoAmt','Health','Type'"
      ],
      "id": "LGvCuUzaoR92"
    },
    {
      "cell_type": "code",
      "metadata": {
        "id": "PINRdI4rosOl"
      },
      "source": [
        "# Create our features\n",
        "X4 = pet_df.drop([\"AdoptionSpeed\", \"Type\", \"VideoAmt\", \"Health\",'Vaccinated','Sterilized'], axis=1)\n",
        "\n",
        "# Create our target\n",
        "y4 = pet_df[\"AdoptionSpeed\"]"
      ],
      "id": "PINRdI4rosOl",
      "execution_count": 41,
      "outputs": []
    },
    {
      "cell_type": "code",
      "metadata": {
        "id": "224sTbTRovCb"
      },
      "source": [
        "#split the data\n",
        "X_train4, X_test4, y_train4, y_test4 = train_test_split(X4, y4, random_state=1)\n",
        "Counter(y_train4)\n",
        "\n",
        "# Fitting the Standard Scaler with the training data.\n",
        "X_scaler4 = scaler.fit(X_train4)\n",
        "\n",
        "# Scaling the data.\n",
        "X_train_scaled4 = X_scaler4.transform(X_train4)\n",
        "X_test_scaled4 = X_scaler4.transform(X_test4)"
      ],
      "id": "224sTbTRovCb",
      "execution_count": 42,
      "outputs": []
    },
    {
      "cell_type": "code",
      "metadata": {
        "id": "ep1Uc_x3ovuR"
      },
      "source": [
        "# Create a random forest classifier.\n",
        "rf_model4 = RandomForestClassifier(n_estimators=128, random_state=1) \n",
        "\n",
        "# Fitting the model\n",
        "rf_model4 = rf_model4.fit(X_train_scaled4, y_train4)"
      ],
      "id": "ep1Uc_x3ovuR",
      "execution_count": 43,
      "outputs": []
    },
    {
      "cell_type": "code",
      "metadata": {
        "id": "rgbbwjqfoyhF"
      },
      "source": [
        "# Making predictions using the testing data.\n",
        "predictions4 = rf_model4.predict(X_test_scaled4)"
      ],
      "id": "rgbbwjqfoyhF",
      "execution_count": 44,
      "outputs": []
    },
    {
      "cell_type": "code",
      "metadata": {
        "colab": {
          "base_uri": "https://localhost:8080/",
          "height": 204
        },
        "id": "kocBK8kqo1Nx",
        "outputId": "e752a77a-f560-4d04-f21d-c16c9e81caca"
      },
      "source": [
        "# Calculating the accuracy score.\n",
        "acc_score4 = accuracy_score(y_test4, predictions4)\n",
        "\n",
        "# Calculating the confusion matrix.\n",
        "cm4 = confusion_matrix(y_test4, predictions4)\n",
        "\n",
        "# Create a DataFrame from the confusion matrix.\n",
        "cm_df4 = pd.DataFrame(cm4, index=[\"Actual 0\", \"Actual 1\", \"Actual 2\",\"Actual 3\", \"Actual 4\"], columns=[\"Predicted 0\", \"Predicted 1\",\"Predicted 2\",\"Predicted 3\",\"Predicted 4\"])\n",
        "\n",
        "cm_df4"
      ],
      "id": "kocBK8kqo1Nx",
      "execution_count": 45,
      "outputs": [
        {
          "output_type": "execute_result",
          "data": {
            "text/html": [
              "<div>\n",
              "<style scoped>\n",
              "    .dataframe tbody tr th:only-of-type {\n",
              "        vertical-align: middle;\n",
              "    }\n",
              "\n",
              "    .dataframe tbody tr th {\n",
              "        vertical-align: top;\n",
              "    }\n",
              "\n",
              "    .dataframe thead th {\n",
              "        text-align: right;\n",
              "    }\n",
              "</style>\n",
              "<table border=\"1\" class=\"dataframe\">\n",
              "  <thead>\n",
              "    <tr style=\"text-align: right;\">\n",
              "      <th></th>\n",
              "      <th>Predicted 0</th>\n",
              "      <th>Predicted 1</th>\n",
              "      <th>Predicted 2</th>\n",
              "      <th>Predicted 3</th>\n",
              "      <th>Predicted 4</th>\n",
              "    </tr>\n",
              "  </thead>\n",
              "  <tbody>\n",
              "    <tr>\n",
              "      <th>Actual 0</th>\n",
              "      <td>1</td>\n",
              "      <td>24</td>\n",
              "      <td>27</td>\n",
              "      <td>17</td>\n",
              "      <td>30</td>\n",
              "    </tr>\n",
              "    <tr>\n",
              "      <th>Actual 1</th>\n",
              "      <td>3</td>\n",
              "      <td>273</td>\n",
              "      <td>254</td>\n",
              "      <td>101</td>\n",
              "      <td>154</td>\n",
              "    </tr>\n",
              "    <tr>\n",
              "      <th>Actual 2</th>\n",
              "      <td>1</td>\n",
              "      <td>200</td>\n",
              "      <td>406</td>\n",
              "      <td>169</td>\n",
              "      <td>222</td>\n",
              "    </tr>\n",
              "    <tr>\n",
              "      <th>Actual 3</th>\n",
              "      <td>1</td>\n",
              "      <td>133</td>\n",
              "      <td>228</td>\n",
              "      <td>201</td>\n",
              "      <td>238</td>\n",
              "    </tr>\n",
              "    <tr>\n",
              "      <th>Actual 4</th>\n",
              "      <td>0</td>\n",
              "      <td>98</td>\n",
              "      <td>198</td>\n",
              "      <td>105</td>\n",
              "      <td>662</td>\n",
              "    </tr>\n",
              "  </tbody>\n",
              "</table>\n",
              "</div>"
            ],
            "text/plain": [
              "          Predicted 0  Predicted 1  Predicted 2  Predicted 3  Predicted 4\n",
              "Actual 0            1           24           27           17           30\n",
              "Actual 1            3          273          254          101          154\n",
              "Actual 2            1          200          406          169          222\n",
              "Actual 3            1          133          228          201          238\n",
              "Actual 4            0           98          198          105          662"
            ]
          },
          "metadata": {},
          "execution_count": 45
        }
      ]
    },
    {
      "cell_type": "code",
      "metadata": {
        "colab": {
          "base_uri": "https://localhost:8080/",
          "height": 459
        },
        "id": "cwEV2VJao89Z",
        "outputId": "d1ba5bec-63c9-4187-f6a7-256b8e52475b"
      },
      "source": [
        "# Displaying results\n",
        "print(\"Confusion Matrix\")\n",
        "display(cm_df4)\n",
        "print(f\"Accuracy Score : {acc_score4}\")\n",
        "print(\"Classification Report\")\n",
        "print(classification_report(y_test4, predictions4))"
      ],
      "id": "cwEV2VJao89Z",
      "execution_count": 46,
      "outputs": [
        {
          "output_type": "stream",
          "name": "stdout",
          "text": [
            "Confusion Matrix\n"
          ]
        },
        {
          "output_type": "display_data",
          "data": {
            "text/html": [
              "<div>\n",
              "<style scoped>\n",
              "    .dataframe tbody tr th:only-of-type {\n",
              "        vertical-align: middle;\n",
              "    }\n",
              "\n",
              "    .dataframe tbody tr th {\n",
              "        vertical-align: top;\n",
              "    }\n",
              "\n",
              "    .dataframe thead th {\n",
              "        text-align: right;\n",
              "    }\n",
              "</style>\n",
              "<table border=\"1\" class=\"dataframe\">\n",
              "  <thead>\n",
              "    <tr style=\"text-align: right;\">\n",
              "      <th></th>\n",
              "      <th>Predicted 0</th>\n",
              "      <th>Predicted 1</th>\n",
              "      <th>Predicted 2</th>\n",
              "      <th>Predicted 3</th>\n",
              "      <th>Predicted 4</th>\n",
              "    </tr>\n",
              "  </thead>\n",
              "  <tbody>\n",
              "    <tr>\n",
              "      <th>Actual 0</th>\n",
              "      <td>1</td>\n",
              "      <td>24</td>\n",
              "      <td>27</td>\n",
              "      <td>17</td>\n",
              "      <td>30</td>\n",
              "    </tr>\n",
              "    <tr>\n",
              "      <th>Actual 1</th>\n",
              "      <td>3</td>\n",
              "      <td>273</td>\n",
              "      <td>254</td>\n",
              "      <td>101</td>\n",
              "      <td>154</td>\n",
              "    </tr>\n",
              "    <tr>\n",
              "      <th>Actual 2</th>\n",
              "      <td>1</td>\n",
              "      <td>200</td>\n",
              "      <td>406</td>\n",
              "      <td>169</td>\n",
              "      <td>222</td>\n",
              "    </tr>\n",
              "    <tr>\n",
              "      <th>Actual 3</th>\n",
              "      <td>1</td>\n",
              "      <td>133</td>\n",
              "      <td>228</td>\n",
              "      <td>201</td>\n",
              "      <td>238</td>\n",
              "    </tr>\n",
              "    <tr>\n",
              "      <th>Actual 4</th>\n",
              "      <td>0</td>\n",
              "      <td>98</td>\n",
              "      <td>198</td>\n",
              "      <td>105</td>\n",
              "      <td>662</td>\n",
              "    </tr>\n",
              "  </tbody>\n",
              "</table>\n",
              "</div>"
            ],
            "text/plain": [
              "          Predicted 0  Predicted 1  Predicted 2  Predicted 3  Predicted 4\n",
              "Actual 0            1           24           27           17           30\n",
              "Actual 1            3          273          254          101          154\n",
              "Actual 2            1          200          406          169          222\n",
              "Actual 3            1          133          228          201          238\n",
              "Actual 4            0           98          198          105          662"
            ]
          },
          "metadata": {}
        },
        {
          "output_type": "stream",
          "name": "stdout",
          "text": [
            "Accuracy Score : 0.41190603310197543\n",
            "Classification Report\n",
            "              precision    recall  f1-score   support\n",
            "\n",
            "           0       0.17      0.01      0.02        99\n",
            "           1       0.38      0.35      0.36       785\n",
            "           2       0.36      0.41      0.38       998\n",
            "           3       0.34      0.25      0.29       801\n",
            "           4       0.51      0.62      0.56      1063\n",
            "\n",
            "    accuracy                           0.41      3746\n",
            "   macro avg       0.35      0.33      0.32      3746\n",
            "weighted avg       0.40      0.41      0.40      3746\n",
            "\n"
          ]
        }
      ]
    },
    {
      "cell_type": "markdown",
      "metadata": {
        "id": "PEY4noMep0DD"
      },
      "source": [
        "so far model two has best accuracy -- next tweak other part of model or data?"
      ],
      "id": "PEY4noMep0DD"
    },
    {
      "cell_type": "code",
      "metadata": {
        "id": "ohIbo4Ubp8OB"
      },
      "source": [
        ""
      ],
      "id": "ohIbo4Ubp8OB",
      "execution_count": null,
      "outputs": []
    }
  ]
}