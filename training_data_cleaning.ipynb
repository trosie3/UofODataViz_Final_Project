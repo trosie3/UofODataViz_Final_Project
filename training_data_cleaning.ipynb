{
  "nbformat": 4,
  "nbformat_minor": 0,
  "metadata": {
    "colab": {
      "name": "training_data_cleaning.ipynb",
      "provenance": []
    },
    "kernelspec": {
      "name": "python3",
      "display_name": "Python 3"
    },
    "language_info": {
      "name": "python"
    }
  },
  "cells": [
    {
      "cell_type": "code",
      "metadata": {
        "id": "KFEkFdCNYrCB"
      },
      "source": [
        "#load in csv\n",
        "from google.colab import files\n",
        "\n",
        "uploaded = files.upload()\n",
        "\n",
        "for fn in uploaded.keys():\n",
        "  print('User uploaded file \"{name}\" with length {length} bytes'.format(\n",
        "      name=fn, length=len(uploaded[fn])))"
      ],
      "execution_count": null,
      "outputs": []
    },
    {
      "cell_type": "code",
      "metadata": {
        "id": "JpTcn-rsYIfQ"
      },
      "source": [
        "# load in dependencies\n",
        "import pandas as pd"
      ],
      "execution_count": null,
      "outputs": []
    },
    {
      "cell_type": "code",
      "metadata": {
        "id": "FCadlw2PYz7O"
      },
      "source": [
        "# read csv into datafram\n",
        "# pet_df = pd.read_csv('')"
      ],
      "execution_count": null,
      "outputs": []
    },
    {
      "cell_type": "markdown",
      "metadata": {
        "id": "CXvOIJ9TaNaX"
      },
      "source": [
        "Explore Data"
      ]
    },
    {
      "cell_type": "code",
      "metadata": {
        "id": "Ux0nMDa5Z7T-"
      },
      "source": [
        ""
      ],
      "execution_count": null,
      "outputs": []
    },
    {
      "cell_type": "markdown",
      "metadata": {
        "id": "7p6gWpvWaQfd"
      },
      "source": [
        "Clean training data for model"
      ]
    },
    {
      "cell_type": "code",
      "metadata": {
        "id": "SrO96qD2Z7Rr"
      },
      "source": [
        ""
      ],
      "execution_count": null,
      "outputs": []
    },
    {
      "cell_type": "code",
      "metadata": {
        "id": "Lb-kcjB1Z7PR"
      },
      "source": [
        ""
      ],
      "execution_count": null,
      "outputs": []
    },
    {
      "cell_type": "code",
      "metadata": {
        "id": "aTA4xX8IZ7M7"
      },
      "source": [
        ""
      ],
      "execution_count": null,
      "outputs": []
    },
    {
      "cell_type": "markdown",
      "metadata": {
        "id": "93KI7WtsaYMc"
      },
      "source": [
        "Export cleaned training data"
      ]
    },
    {
      "cell_type": "code",
      "metadata": {
        "id": "qHwL3b4FYzsI"
      },
      "source": [
        "# export cleaned data/df to new csv\n",
        "# file_path = Path(\"../Data/cleaned_training.csv\")\n",
        "# cleaned_pet_df.to_csv(file_path, index=False)"
      ],
      "execution_count": null,
      "outputs": []
    },
    {
      "cell_type": "markdown",
      "metadata": {
        "id": "Qu89BR-0arjE"
      },
      "source": [
        "Repeat prior steps for test data so same changes are made - another notebook or same?"
      ]
    },
    {
      "cell_type": "code",
      "metadata": {
        "id": "tT9-Jl90aq_C"
      },
      "source": [
        ""
      ],
      "execution_count": null,
      "outputs": []
    }
  ]
}